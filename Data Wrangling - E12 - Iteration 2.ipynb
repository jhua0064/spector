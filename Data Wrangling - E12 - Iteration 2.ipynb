{
 "cells": [
  {
   "cell_type": "markdown",
   "metadata": {},
   "source": [
    "# Introduction\n",
    "\n",
    "EI Team:                   E12\n",
    "Responsible Team member:   Orgilbold Tumurbaatar\n",
    "\n",
    "\n",
    "This document contains data wrangling codes used to clean source datasets, match datasets from different sources, and collect additinal data such as images.\n"
   ]
  },
  {
   "cell_type": "code",
   "execution_count": 616,
   "metadata": {},
   "outputs": [],
   "source": [
    "# Laoding libraries\n",
    "\n",
    "import pandas as pd"
   ]
  },
  {
   "cell_type": "markdown",
   "metadata": {},
   "source": [
    "# Bee Friendly Dataset - Cleaning"
   ]
  },
  {
   "cell_type": "code",
   "execution_count": 242,
   "metadata": {},
   "outputs": [],
   "source": [
    "# loading manually parsed dataset\n",
    "bee_friendly_data = pd.read_csv(\"Bee Friendly Data CSV.csv\")"
   ]
  },
  {
   "cell_type": "code",
   "execution_count": 51,
   "metadata": {},
   "outputs": [
    {
     "data": {
      "text/html": [
       "<div>\n",
       "<style scoped>\n",
       "    .dataframe tbody tr th:only-of-type {\n",
       "        vertical-align: middle;\n",
       "    }\n",
       "\n",
       "    .dataframe tbody tr th {\n",
       "        vertical-align: top;\n",
       "    }\n",
       "\n",
       "    .dataframe thead th {\n",
       "        text-align: right;\n",
       "    }\n",
       "</style>\n",
       "<table border=\"1\" class=\"dataframe\">\n",
       "  <thead>\n",
       "    <tr style=\"text-align: right;\">\n",
       "      <th></th>\n",
       "      <th>Plant type</th>\n",
       "      <th>Botanical name</th>\n",
       "      <th>Common name</th>\n",
       "      <th>Climate</th>\n",
       "      <th>Uses</th>\n",
       "      <th>Nectar</th>\n",
       "      <th>Pollen</th>\n",
       "      <th>Jan</th>\n",
       "      <th>Feb</th>\n",
       "      <th>Mar</th>\n",
       "      <th>Apr</th>\n",
       "      <th>May</th>\n",
       "      <th>Jun</th>\n",
       "      <th>Jul</th>\n",
       "      <th>Aug</th>\n",
       "      <th>Sep</th>\n",
       "      <th>Oct</th>\n",
       "      <th>Nov</th>\n",
       "      <th>Dec</th>\n",
       "    </tr>\n",
       "  </thead>\n",
       "  <tbody>\n",
       "    <tr>\n",
       "      <td>0</td>\n",
       "      <td>HERB</td>\n",
       "      <td>Lavendula spp.</td>\n",
       "      <td>Lavender</td>\n",
       "      <td>C</td>\n",
       "      <td>G S U F</td>\n",
       "      <td>N</td>\n",
       "      <td>P</td>\n",
       "      <td>?</td>\n",
       "      <td>?</td>\n",
       "      <td>NaN</td>\n",
       "      <td>NaN</td>\n",
       "      <td>NaN</td>\n",
       "      <td>NaN</td>\n",
       "      <td>NaN</td>\n",
       "      <td>NaN</td>\n",
       "      <td>NaN</td>\n",
       "      <td>NaN</td>\n",
       "      <td>NaN</td>\n",
       "      <td>?</td>\n",
       "    </tr>\n",
       "    <tr>\n",
       "      <td>1</td>\n",
       "      <td>NaN</td>\n",
       "      <td>Melissa officinalis</td>\n",
       "      <td>Lemon balm</td>\n",
       "      <td>C T</td>\n",
       "      <td>G S U F</td>\n",
       "      <td>N</td>\n",
       "      <td>p</td>\n",
       "      <td>?</td>\n",
       "      <td>?</td>\n",
       "      <td>?</td>\n",
       "      <td>?</td>\n",
       "      <td>NaN</td>\n",
       "      <td>NaN</td>\n",
       "      <td>NaN</td>\n",
       "      <td>NaN</td>\n",
       "      <td>NaN</td>\n",
       "      <td>NaN</td>\n",
       "      <td>NaN</td>\n",
       "      <td>?</td>\n",
       "    </tr>\n",
       "    <tr>\n",
       "      <td>2</td>\n",
       "      <td>NaN</td>\n",
       "      <td>Origanum vulgare</td>\n",
       "      <td>Oregano</td>\n",
       "      <td>C T</td>\n",
       "      <td>G</td>\n",
       "      <td>N</td>\n",
       "      <td>NaN</td>\n",
       "      <td>?</td>\n",
       "      <td>?</td>\n",
       "      <td>?</td>\n",
       "      <td>NaN</td>\n",
       "      <td>NaN</td>\n",
       "      <td>NaN</td>\n",
       "      <td>NaN</td>\n",
       "      <td>NaN</td>\n",
       "      <td>NaN</td>\n",
       "      <td>NaN</td>\n",
       "      <td>?</td>\n",
       "      <td>?</td>\n",
       "    </tr>\n",
       "    <tr>\n",
       "      <td>3</td>\n",
       "      <td>NaN</td>\n",
       "      <td>Mentha piperita</td>\n",
       "      <td>Peppermint</td>\n",
       "      <td>C T</td>\n",
       "      <td>G F</td>\n",
       "      <td>N</td>\n",
       "      <td>P</td>\n",
       "      <td>?</td>\n",
       "      <td>?</td>\n",
       "      <td>?</td>\n",
       "      <td>NaN</td>\n",
       "      <td>NaN</td>\n",
       "      <td>NaN</td>\n",
       "      <td>NaN</td>\n",
       "      <td>NaN</td>\n",
       "      <td>NaN</td>\n",
       "      <td>NaN</td>\n",
       "      <td>NaN</td>\n",
       "      <td>?</td>\n",
       "    </tr>\n",
       "    <tr>\n",
       "      <td>4</td>\n",
       "      <td>SHRUB</td>\n",
       "      <td>Grevillea montis-cole</td>\n",
       "      <td>Greville amontis-cole</td>\n",
       "      <td>C T</td>\n",
       "      <td>G S U</td>\n",
       "      <td>n</td>\n",
       "      <td>p</td>\n",
       "      <td>?</td>\n",
       "      <td>?</td>\n",
       "      <td>?</td>\n",
       "      <td>NaN</td>\n",
       "      <td>NaN</td>\n",
       "      <td>NaN</td>\n",
       "      <td>NaN</td>\n",
       "      <td>NaN</td>\n",
       "      <td>NaN</td>\n",
       "      <td>?</td>\n",
       "      <td>?</td>\n",
       "      <td>?</td>\n",
       "    </tr>\n",
       "    <tr>\n",
       "      <td>...</td>\n",
       "      <td>...</td>\n",
       "      <td>...</td>\n",
       "      <td>...</td>\n",
       "      <td>...</td>\n",
       "      <td>...</td>\n",
       "      <td>...</td>\n",
       "      <td>...</td>\n",
       "      <td>...</td>\n",
       "      <td>...</td>\n",
       "      <td>...</td>\n",
       "      <td>...</td>\n",
       "      <td>...</td>\n",
       "      <td>...</td>\n",
       "      <td>...</td>\n",
       "      <td>...</td>\n",
       "      <td>...</td>\n",
       "      <td>...</td>\n",
       "      <td>...</td>\n",
       "      <td>...</td>\n",
       "    </tr>\n",
       "    <tr>\n",
       "      <td>188</td>\n",
       "      <td>NaN</td>\n",
       "      <td>Banksia ornata</td>\n",
       "      <td>Desert banksia</td>\n",
       "      <td>T H</td>\n",
       "      <td>G U F</td>\n",
       "      <td>N</td>\n",
       "      <td>P</td>\n",
       "      <td>NaN</td>\n",
       "      <td>NaN</td>\n",
       "      <td>NaN</td>\n",
       "      <td>?</td>\n",
       "      <td>?</td>\n",
       "      <td>?</td>\n",
       "      <td>?</td>\n",
       "      <td>?</td>\n",
       "      <td>?</td>\n",
       "      <td>?</td>\n",
       "      <td>NaN</td>\n",
       "      <td>NaN</td>\n",
       "    </tr>\n",
       "    <tr>\n",
       "      <td>189</td>\n",
       "      <td>TREE</td>\n",
       "      <td>Acacia aneura</td>\n",
       "      <td>Mulga</td>\n",
       "      <td>H</td>\n",
       "      <td>G S U F</td>\n",
       "      <td>NaN</td>\n",
       "      <td>P</td>\n",
       "      <td>NaN</td>\n",
       "      <td>NaN</td>\n",
       "      <td>NaN</td>\n",
       "      <td>NaN</td>\n",
       "      <td>NaN</td>\n",
       "      <td>NaN</td>\n",
       "      <td>NaN</td>\n",
       "      <td>?</td>\n",
       "      <td>?</td>\n",
       "      <td>NaN</td>\n",
       "      <td>NaN</td>\n",
       "      <td>NaN</td>\n",
       "    </tr>\n",
       "    <tr>\n",
       "      <td>190</td>\n",
       "      <td>NaN</td>\n",
       "      <td>Eucalyptus dealbata</td>\n",
       "      <td>Hill gum</td>\n",
       "      <td>T H</td>\n",
       "      <td>F</td>\n",
       "      <td>N</td>\n",
       "      <td>P</td>\n",
       "      <td>NaN</td>\n",
       "      <td>NaN</td>\n",
       "      <td>NaN</td>\n",
       "      <td>NaN</td>\n",
       "      <td>NaN</td>\n",
       "      <td>NaN</td>\n",
       "      <td>NaN</td>\n",
       "      <td>NaN</td>\n",
       "      <td>?</td>\n",
       "      <td>?</td>\n",
       "      <td>?</td>\n",
       "      <td>?</td>\n",
       "    </tr>\n",
       "    <tr>\n",
       "      <td>191</td>\n",
       "      <td>NaN</td>\n",
       "      <td>Eucalyptus microtheca</td>\n",
       "      <td>Coolibah</td>\n",
       "      <td>H</td>\n",
       "      <td>S F</td>\n",
       "      <td>N</td>\n",
       "      <td>P</td>\n",
       "      <td>?</td>\n",
       "      <td>NaN</td>\n",
       "      <td>NaN</td>\n",
       "      <td>NaN</td>\n",
       "      <td>NaN</td>\n",
       "      <td>NaN</td>\n",
       "      <td>NaN</td>\n",
       "      <td>NaN</td>\n",
       "      <td>NaN</td>\n",
       "      <td>NaN</td>\n",
       "      <td>NaN</td>\n",
       "      <td>?</td>\n",
       "    </tr>\n",
       "    <tr>\n",
       "      <td>192</td>\n",
       "      <td>NaN</td>\n",
       "      <td>Eucalyptus camaldulensis</td>\n",
       "      <td>River red gum</td>\n",
       "      <td>T W H</td>\n",
       "      <td>U F</td>\n",
       "      <td>N</td>\n",
       "      <td>P</td>\n",
       "      <td>?</td>\n",
       "      <td>?</td>\n",
       "      <td>NaN</td>\n",
       "      <td>NaN</td>\n",
       "      <td>NaN</td>\n",
       "      <td>NaN</td>\n",
       "      <td>NaN</td>\n",
       "      <td>NaN</td>\n",
       "      <td>NaN</td>\n",
       "      <td>NaN</td>\n",
       "      <td>?</td>\n",
       "      <td>?</td>\n",
       "    </tr>\n",
       "  </tbody>\n",
       "</table>\n",
       "<p>193 rows × 19 columns</p>\n",
       "</div>"
      ],
      "text/plain": [
       "    Plant type            Botanical name            Common name Climate  \\\n",
       "0         HERB            Lavendula spp.               Lavender       C   \n",
       "1          NaN       Melissa officinalis             Lemon balm     C T   \n",
       "2          NaN          Origanum vulgare                Oregano     C T   \n",
       "3          NaN           Mentha piperita             Peppermint     C T   \n",
       "4        SHRUB     Grevillea montis-cole  Greville amontis-cole     C T   \n",
       "..         ...                       ...                    ...     ...   \n",
       "188        NaN            Banksia ornata         Desert banksia     T H   \n",
       "189       TREE             Acacia aneura                  Mulga       H   \n",
       "190        NaN       Eucalyptus dealbata               Hill gum     T H   \n",
       "191        NaN     Eucalyptus microtheca               Coolibah       H   \n",
       "192        NaN  Eucalyptus camaldulensis          River red gum   T W H   \n",
       "\n",
       "        Uses Nectar Pollen  Jan  Feb  Mar  Apr  May  Jun  Jul  Aug  Sep  Oct  \\\n",
       "0    G S U F      N      P    ?    ?  NaN  NaN  NaN  NaN  NaN  NaN  NaN  NaN   \n",
       "1    G S U F      N      p    ?    ?    ?    ?  NaN  NaN  NaN  NaN  NaN  NaN   \n",
       "2          G      N    NaN    ?    ?    ?  NaN  NaN  NaN  NaN  NaN  NaN  NaN   \n",
       "3        G F      N      P    ?    ?    ?  NaN  NaN  NaN  NaN  NaN  NaN  NaN   \n",
       "4      G S U      n      p    ?    ?    ?  NaN  NaN  NaN  NaN  NaN  NaN    ?   \n",
       "..       ...    ...    ...  ...  ...  ...  ...  ...  ...  ...  ...  ...  ...   \n",
       "188    G U F      N      P  NaN  NaN  NaN    ?    ?    ?    ?    ?    ?    ?   \n",
       "189  G S U F    NaN      P  NaN  NaN  NaN  NaN  NaN  NaN  NaN    ?    ?  NaN   \n",
       "190        F      N      P  NaN  NaN  NaN  NaN  NaN  NaN  NaN  NaN    ?    ?   \n",
       "191      S F      N      P    ?  NaN  NaN  NaN  NaN  NaN  NaN  NaN  NaN  NaN   \n",
       "192      U F      N      P    ?    ?  NaN  NaN  NaN  NaN  NaN  NaN  NaN  NaN   \n",
       "\n",
       "     Nov  Dec  \n",
       "0    NaN    ?  \n",
       "1    NaN    ?  \n",
       "2      ?    ?  \n",
       "3    NaN    ?  \n",
       "4      ?    ?  \n",
       "..   ...  ...  \n",
       "188  NaN  NaN  \n",
       "189  NaN  NaN  \n",
       "190    ?    ?  \n",
       "191  NaN    ?  \n",
       "192    ?    ?  \n",
       "\n",
       "[193 rows x 19 columns]"
      ]
     },
     "execution_count": 51,
     "metadata": {},
     "output_type": "execute_result"
    }
   ],
   "source": [
    "bee_friendly_data"
   ]
  },
  {
   "cell_type": "code",
   "execution_count": 243,
   "metadata": {},
   "outputs": [],
   "source": [
    "# Fixing Botanical Names\n",
    "\n",
    "# fixer function\n",
    "def fixer(text):\n",
    "    fixed_text=\"\"  \n",
    "    for i in range(len(text)):\n",
    "        if text[i]!=\"?\":\n",
    "            fixed_text+=text[i]\n",
    "        else:\n",
    "            fixed_text+=\"'\"\n",
    "    return fixed_text\n",
    "\n",
    "# Fixing\n",
    "bee_friendly_data[\"Botanical name\"] = bee_friendly_data[\"Botanical name\"].apply(lambda x: fixer(x))\n",
    "bee_friendly_data[\"Common name\"] = bee_friendly_data[\"Common name\"].apply(lambda x: fixer(x))"
   ]
  },
  {
   "cell_type": "code",
   "execution_count": 244,
   "metadata": {},
   "outputs": [],
   "source": [
    "# Fixing Flowering Months (1 - flowers, 0-doesn't flower)\n",
    "months = bee_friendly_data.columns.tolist()[7:]\n",
    "for column in months:\n",
    "    bee_friendly_data[column] = bee_friendly_data[column].apply(lambda x: 1 if x==\"?\" else 0)\n"
   ]
  },
  {
   "cell_type": "code",
   "execution_count": 245,
   "metadata": {},
   "outputs": [],
   "source": [
    "# Filling Plant Type\n",
    "bee_friendly_data[\"Plant type\"] = bee_friendly_data[\"Plant type\"].fillna(method = 'pad') \n"
   ]
  },
  {
   "cell_type": "code",
   "execution_count": 246,
   "metadata": {},
   "outputs": [],
   "source": [
    "# Splitting Climate column\n",
    "\n",
    "# bee_friendly_data[bee_friendly_data[\"Climate\"].isnull()]\n",
    "bee_friendly_data[\"Climate\"]=bee_friendly_data[\"Climate\"].fillna(\"Z\")\n",
    "\n",
    "# Cool Climate\n",
    "bee_friendly_data[\"Cool\"]=0\n",
    "bee_friendly_data[\"Cool\"] = bee_friendly_data[\"Climate\"].apply(lambda x: 1 if \"C\" in x.split() else 0)\n",
    "\n",
    "# Temperate Climate\n",
    "bee_friendly_data[\"Temperate\"]=0\n",
    "bee_friendly_data[\"Temperate\"] = bee_friendly_data[\"Climate\"].apply(lambda x: 1 if \"T\" in x.split() else 0)\n",
    "\n",
    "# Warm/Humid Climate\n",
    "bee_friendly_data[\"Warm/Humid\"]=0\n",
    "bee_friendly_data[\"Warm/Humid\"] = bee_friendly_data[\"Climate\"].apply(lambda x: 1 if \"W\" in x.split() else 0)\n",
    "\n",
    "# Hot/Arid Climate\n",
    "bee_friendly_data[\"Hot/Arid\"]=0\n",
    "bee_friendly_data[\"Hot/Arid\"] = bee_friendly_data[\"Climate\"].apply(lambda x: 1 if \"H\" in x.split() else 0)\n"
   ]
  },
  {
   "cell_type": "code",
   "execution_count": 247,
   "metadata": {},
   "outputs": [],
   "source": [
    "# Splitting Uses column\n",
    "\n",
    "# bee_friendly_data[bee_friendly_data[\"Uses\"].isnull()]\n",
    "bee_friendly_data[\"Uses\"]=bee_friendly_data[\"Uses\"].fillna(\"Z\")\n",
    "\n",
    "# Garden usage\n",
    "bee_friendly_data[\"Garden\"]=0\n",
    "bee_friendly_data[\"Garden\"] = bee_friendly_data[\"Uses\"].apply(lambda x: 1 if \"G\" in x.split() else 0)\n",
    "\n",
    "# Street usage\n",
    "bee_friendly_data[\"Street\"]=0\n",
    "bee_friendly_data[\"Street\"] = bee_friendly_data[\"Uses\"].apply(lambda x: 1 if \"S\" in x.split() else 0)\n",
    "\n",
    "# Urban usage\n",
    "bee_friendly_data[\"Urban\"]=0\n",
    "bee_friendly_data[\"Urban\"] = bee_friendly_data[\"Uses\"].apply(lambda x: 1 if \"U\" in x.split() else 0)\n",
    "\n",
    "# Farm-Rural usage\n",
    "bee_friendly_data[\"Farm-Rural\"]=0\n",
    "bee_friendly_data[\"Farm-Rural\"] = bee_friendly_data[\"Uses\"].apply(lambda x: 1 if \"F\" in x.split() else 0)\n"
   ]
  },
  {
   "cell_type": "code",
   "execution_count": 248,
   "metadata": {},
   "outputs": [],
   "source": [
    "# Correcting Typos\n",
    "\n",
    "index=bee_friendly_data[bee_friendly_data[\"Common name\"]==\"Large- fruited yellow gum\"].index\n",
    "bee_friendly_data.loc[index[0],\"Common name\"]=\"Large fruited yellow gum\""
   ]
  },
  {
   "cell_type": "code",
   "execution_count": 249,
   "metadata": {},
   "outputs": [],
   "source": [
    "# Origanum majorana\n",
    "index=bee_friendly_data[bee_friendly_data[\"Botanical name\"]==\"Origanum majorana\"].index\n",
    "bee_friendly_data.loc[index[0],\"Botanical name\"]=\"Origanum marjorana\""
   ]
  },
  {
   "cell_type": "code",
   "execution_count": 250,
   "metadata": {},
   "outputs": [],
   "source": [
    "# Alyogyne heugelii\n",
    "index=bee_friendly_data[bee_friendly_data[\"Botanical name\"]==\"Alyogyne heugelii\"].index\n",
    "bee_friendly_data.loc[index[0],\"Botanical name\"]=\"Alyogyne huegelii\""
   ]
  },
  {
   "cell_type": "code",
   "execution_count": 251,
   "metadata": {},
   "outputs": [],
   "source": [
    "# Buckinghamia celsissma\n",
    "index=bee_friendly_data[bee_friendly_data[\"Botanical name\"]==\"Buckinghamia celsissma\"].index\n",
    "bee_friendly_data.loc[index[0],\"Botanical name\"]=\"Buckinghamia celsissima\""
   ]
  },
  {
   "cell_type": "code",
   "execution_count": 252,
   "metadata": {},
   "outputs": [],
   "source": [
    "# Melaleuca incarna\n",
    "index=bee_friendly_data[bee_friendly_data[\"Botanical name\"]==\"Melaleuca incarna\"].index\n",
    "bee_friendly_data.loc[index[0],\"Botanical name\"]=\"Melaleuca incana\""
   ]
  },
  {
   "cell_type": "code",
   "execution_count": 253,
   "metadata": {},
   "outputs": [],
   "source": [
    "# Melia azederach\n",
    "index=bee_friendly_data[bee_friendly_data[\"Botanical name\"]==\"Melia azederach\"].index\n",
    "bee_friendly_data.loc[index[0],\"Botanical name\"]=\"Melia azedarach\""
   ]
  },
  {
   "cell_type": "code",
   "execution_count": 254,
   "metadata": {},
   "outputs": [],
   "source": [
    "# Grevillea junperina\n",
    "index=bee_friendly_data[bee_friendly_data[\"Botanical name\"]==\"Grevillea junperina\"].index\n",
    "bee_friendly_data.loc[index[0],\"Botanical name\"]=\"Grevillea juniperina\""
   ]
  },
  {
   "cell_type": "code",
   "execution_count": 255,
   "metadata": {},
   "outputs": [],
   "source": [
    "# Grevillea junperina\n",
    "index=bee_friendly_data[bee_friendly_data[\"Common name\"]==\"Rough-barked apple\"].index\n",
    "bee_friendly_data.loc[index[0],\"Common name\"]=\"Rough Barked Apple Gum\""
   ]
  },
  {
   "cell_type": "markdown",
   "metadata": {},
   "source": [
    "# Waterwise Plants Dataset - Cleaning"
   ]
  },
  {
   "cell_type": "code",
   "execution_count": 134,
   "metadata": {},
   "outputs": [],
   "source": [
    "# loading manually parsed dataset\n",
    "waterwise_plants = pd.read_csv(\"waterwise-plants.csv\",encoding = \"ISO-8859-1\")"
   ]
  },
  {
   "cell_type": "code",
   "execution_count": 135,
   "metadata": {},
   "outputs": [],
   "source": [
    "# Drop empty row with all values NaN\n",
    "waterwise_plants = waterwise_plants.drop([waterwise_plants.shape[0]-1], axis=0)\n",
    "waterwise_plants = waterwise_plants.dropna(how='all') "
   ]
  },
  {
   "cell_type": "code",
   "execution_count": 260,
   "metadata": {},
   "outputs": [],
   "source": [
    "# Removing \"x\" in the names\n",
    "for idx,row in waterwise_plants.iterrows():\n",
    "    fixed_name=\"\"\n",
    "    for each in row[\"Botanical Name\"].split():\n",
    "        if each!=\"x\":\n",
    "            fixed_name+=each+\" \"      \n",
    "    waterwise_plants.loc[idx,\"Botanical Name\"]=fixed_name.strip()"
   ]
  },
  {
   "cell_type": "markdown",
   "metadata": {},
   "source": [
    "# BeeFriendly and Waterwise datasets - Cross check"
   ]
  },
  {
   "cell_type": "code",
   "execution_count": 12,
   "metadata": {},
   "outputs": [],
   "source": [
    "# Make a list of names\n",
    "bee_friednly_bot_names=bee_friendly_data[\"Botanical name\"].tolist()\n",
    "waterwise_plants_bot_names=waterwise_plants[\"Botanical Name\"].tolist()\n",
    "waterwise_plants_com_names=waterwise_plants[\"Common Name\"].tolist()\n",
    "waterwise_plants_pre_names=waterwise_plants[\"Previous Name\"].tolist()"
   ]
  },
  {
   "cell_type": "code",
   "execution_count": 262,
   "metadata": {},
   "outputs": [],
   "source": [
    "# Function lowers the cases of text in a list\n",
    "def lowercase(InputList):\n",
    "    outputList=InputList.copy()\n",
    "    for idx in range(len(InputList)):\n",
    "        outputList[idx] = InputList[idx].lower()\n",
    "    return outputList"
   ]
  },
  {
   "cell_type": "code",
   "execution_count": 342,
   "metadata": {},
   "outputs": [
    {
     "name": "stdout",
     "output_type": "stream",
     "text": [
      "Mentha piperita | Mentha piperita 'Black Peppermint'\n",
      "Banksia spinulosa | Banksia spinulosa var. collina\n",
      "Prunus cerasifera | Prunus cerasifera 'Nigra'\n",
      "Cuphea hyssopifolia | Cuphea hyssopifolia 'Bianca'\n",
      "Coreopsis grandiflora | Coreopsis grandiflora 'Sunray'\n",
      "Rosa | Rosa banksiae\n",
      "Thryptomene saxicola | Thryptomene saxicola 'Rosea'\n",
      "Eucalyptus leucoxylon | Eucalyptus leucoxylon 'Rosea'\n",
      "Dodonaea viscosa | Dodonaea viscosa 'Purpurea'\n",
      "Leptospermum polygalifolium | Leptospermum polygalifolium 'Pacific Beauty'\n",
      "Matched records: 93\n"
     ]
    }
   ],
   "source": [
    "# Matching Bee Friendly with Waterwise datasets and shared Primary Keys\n",
    "\n",
    "bee_friendly_data[\"Plant ID\"]=0\n",
    "counter=0\n",
    "for idx, row in bee_friendly_data.iterrows():\n",
    "    if row[\"Botanical name\"] in waterwise_plants_bot_names:\n",
    "        bee_friendly_data.loc[idx,\"Plant ID\"] = waterwise_plants[waterwise_plants[\"Botanical Name\"]==row[\"Botanical name\"]][\"Plant ID\"].astype(int).tolist()[0]\n",
    "        counter+=1  \n",
    "        \n",
    "    elif row[\"Botanical name\"] in waterwise_plants_pre_names:\n",
    "        bee_friendly_data.loc[idx,\"Plant ID\"] = waterwise_plants[waterwise_plants[\"Previous Name\"]==row[\"Botanical name\"]][\"Plant ID\"].astype(int).tolist()[0]\n",
    "        #         print(row[\"Botanical name\"],\"|\",row[\"Common name\"])\n",
    "        counter+=1\n",
    "    elif row[\"Common name\"] in waterwise_plants_com_names:\n",
    "        bee_friendly_data.loc[idx,\"Plant ID\"] = waterwise_plants[waterwise_plants[\"Common Name\"]==row[\"Common name\"]][\"Plant ID\"].astype(int).tolist()[0]  \n",
    "        #         print(row[\"Botanical name\"],\"|\",row[\"Common name\"])\n",
    "        counter+=1\n",
    "    elif row[\"Common name\"].lower() in lowercase(waterwise_plants_com_names):\n",
    "        bee_friendly_data.loc[idx,\"Plant ID\"] = waterwise_plants[waterwise_plants[\"Common Name\"].apply(lambda x:x.lower())==row[\"Common name\"].lower()][\"Plant ID\"].astype(int).tolist()[0]      \n",
    "        #         print(row[\"Botanical name\"],\"|\",row[\"Common name\"])\n",
    "        counter+=1\n",
    "    else:\n",
    "        set1 = set(row[\"Botanical name\"].split())\n",
    "        for idx1, row1 in waterwise_plants.iterrows():\n",
    "            set2=set(row1[\"Botanical Name\"].split())\n",
    "            if set1.issubset(set2):\n",
    "                bee_friendly_data.loc[idx,\"Plant ID\"] = row1[\"Plant ID\"]\n",
    "                print(row[\"Botanical name\"],\"|\",row1[\"Botanical Name\"])\n",
    "                counter+=1\n",
    "                break\n",
    "#             else: \n",
    "#                 print(row[\"Botanical name\"],\"|\",row[\"Common name\"])\n",
    "print(\"Matched records:\",counter) "
   ]
  },
  {
   "cell_type": "code",
   "execution_count": 343,
   "metadata": {
    "collapsed": true
   },
   "outputs": [
    {
     "name": "stdout",
     "output_type": "stream",
     "text": [
      "2953.0 : Melissa officinalis -- Melissa officinalis\n",
      "3208.0 : Origanum vulgare -- Origanum vulgare\n",
      "2970.0 : Mentha piperita -- Mentha piperita 'Black Peppermint'\n",
      "3843.0 : Rubus idaeus -- Rubus idaeus\n",
      "1231.0 : Citrus limon -- Citrus limon 'Lisbon'\n",
      "2859.0 : Malus spp. -- Malus domestica\n",
      "1965.0 : Eucalyptus leucoxylon var. Macrocarpa rosea -- Eucalyptus leucoxylon 'Rosea'\n",
      "3207.0 : Origanum marjorana -- Origanum marjorana\n",
      "3907.0 : Salvia officinalis -- Salvia officinalis\n",
      "755.0 : Borago officinalis -- Borago officinalis\n",
      "3937.0 : Satureja montana -- Satureja montana\n",
      "1954.0 : Eucalyptus caesia -- Eucalyptus caesia\n",
      "645.0 : Banksia spinulosa -- Banksia spinulosa var. collina\n",
      "3288.0 : Passiflora edulis -- Passiflora edulis\n",
      "1250.0 : Citrus reticulata 'Hickson' -- Citrus reticulata 'Hickson'\n",
      "3688.0 : Prunus spp. Plum -- Prunus domestica\n",
      "1744.0 : Diospyros kaki -- Diospyros kaki\n",
      "1419.0 : Coriandrum sativum -- Coriandrum sativum\n",
      "3187.0 : Ocimum basilicum -- Ocimum basilicum\n",
      "3712.0 : Psidium guajava -- Psidium guajava\n",
      "2829.0 : Macadamia integrifolia -- Macadamia integrifolia\n",
      "598.0 : Averrhoa carambola -- Averrhoa carambola\n",
      "3042.0 : Musa spp. -- Musa sapientum\n",
      "612.0 : Backhousia citriodora -- Backhousia citriodora\n",
      "3363.0 : Persea americana -- Persea americana\n",
      "396.0 : Alyogyne huegelii -- Alyogyne huegelii\n",
      "4286.0 : Thymus spp. -- Thymus vulgaris\n",
      "2965.0 : Mentha spicata -- Mentha spicata\n",
      "1921.0 : Eremophila duttonii -- Eremophila maculata\n",
      "3834.0 : Rosmarinus officinalis -- Rosmarinus officinalis\n",
      "2785.0 : Lobularia maritima -- Lobularia maritima\n",
      "1115.0 : Ceanothus spp. -- Ceanothus papillosus var. roweanus\n",
      "2759.0 : Liriodendron tulipifera -- Liriodendron tulipifera\n",
      "3687.0 : Prunus cerasifera -- Prunus cerasifera 'Nigra'\n",
      "3944.0 : Scaevola aemula -- Scaevola aemula\n",
      "1076.0 : Carpobrotus glaucescens -- Carpobrotus glaucescens\n",
      "4.0 : Abelia grandiflora -- Abelia grandiflora\n",
      "4336.0 : Tristaniopsis laurina -- Tristaniopsis laurina\n",
      "2942.0 : Melaleuca quinquenervia -- Melaleuca quinquenervia\n",
      "1963.0 : Corymbia ficifolia -- Corymbia ficifolia\n",
      "1544.0 : Cuphea hyssopifolia -- Cuphea hyssopifolia 'Bianca'\n",
      "896.0 : Buckinghamia celsissima -- Buckinghamia celsissima\n",
      "2733.0 : Leptospermum madidum -- Leptospermum madidum subsp. sativum\n",
      "2935.0 : Melaleuca linariifolia -- Melaleuca linariifolia\n",
      "2805.0 : Lophostemon confertus -- Lophostemon confertus\n",
      "2589.0 : Jacaranda mimosifolia -- Jacaranda mimosifolia\n",
      "2280.0 : Guioa semiglauca -- Guioa semiglauca\n",
      "2269.0 : Grevillea robusta -- Grevillea robusta\n",
      "2266.0 : Grevillea 'Poorinda Royal Mantle' -- Grevillea 'Poorinda Royal Mantle'\n",
      "2930.0 : Melaleuca incana -- Melaleuca incana\n",
      "1415.0 : Coreopsis grandiflora -- Coreopsis grandiflora 'Sunray'\n",
      "3065.0 : Myoporum parvifolium -- Myoporum parvifolium\n",
      "2948.0 : Melia azedarach -- Melia azedarach\n",
      "995.0 : Callistemon salignus -- Melaleuca salignus\n",
      "3817.0 : Rosa -- Rosa banksiae\n",
      "1099.0 : Castanea sativa -- Castanea sativa\n",
      "27.0 : Acacia baileyana -- Acacia baileyana\n",
      "3904.0 : Salvia leucantha -- Salvia leucantha\n",
      "1868.0 : Echium candicans -- Echium candicans\n",
      "3011.0 : Monarda didyma -- Monarda didyma\n",
      "644.0 : Banksia serrata -- Banksia serrata\n",
      "434.0 : Angophora costata -- Angophora costata\n",
      "1422.0 : Corymbia maculata -- Corymbia citriodora subsp. variegata\n",
      "642.0 : Banksia integrifolia -- Banksia integrifolia\n",
      "1973.0 : Eucalyptus robusta -- Eucalyptus robusta\n",
      "2299.0 : Hardenbergia violacea -- Hardenbergia violacea\n",
      "2268.0 : Grevillea pteridifolia -- Grevillea pteridifolia\n",
      "4338.0 : Tropaeolum spp. -- Tropaeolum majus\n",
      "996.0 : Callistemon viminalis -- Melaleuca viminalis\n",
      "2260.0 : Grevillea baileyana -- Grevillea baileyana\n",
      "4437.0 : Xanthostemon chrysanthus -- Xanthostemon chrysanthus\n",
      "4193.0 : Syzygium luehmannii -- Syzygium luehmannii\n",
      "345.0 : Alphitonia petriei -- Alphitonia petriei\n",
      "1966.0 : Eucalyptus melanophloia -- Eucalyptus melanophloia\n",
      "4273.0 : Thryptomene saxicola -- Thryptomene saxicola 'Rosea'\n",
      "2202.0 : Geijera parviflora -- Geijera parviflora\n",
      "914.0 : Bursaria spinosa -- Bursaria spinosa\n",
      "2736.0 : Leptospermum scoparium -- Leptospermum scoparium\n",
      "1960.0 : Eucalyptus crebra -- Eucalyptus crebra\n",
      "640.0 : Banksia ericifolia -- Banksia ericifolia\n",
      "4607.0 : Pultenaea villosa -- Pultenaea villosa\n",
      "3872.0 : Banksia sessilis -- Ruttya fruticosa\n",
      "1965.0 : Eucalyptus leucoxylon -- Eucalyptus leucoxylon 'Rosea'\n",
      "1955.0 : Corymbia calophylla -- Corymbia calophylla 'Rosea'\n",
      "1182.0 : Cichorium intybus -- Cichorium intybus\n",
      "2320.0 : Helianthus annuus -- Helianthus annuus\n",
      "1768.0 : Dodonaea viscosa -- Dodonaea viscosa 'Purpurea'\n",
      "2735.0 : Leptospermum polygalifolium -- Leptospermum polygalifolium 'Pacific Beauty'\n",
      "2593.0 : Jacksonia scoparia -- Jacksonia scoparia\n",
      "437.0 : Angophora floribunda -- Angophora woodsiana\n",
      "1974.0 : Eucalyptus sideroxylon -- Eucalyptus sideroxylon\n",
      "1959.0 : Corymbia citriodora -- Corymbia citriodora\n",
      "1957.0 : Eucalyptus camaldulensis -- Eucalyptus camaldulensis\n",
      "93\n"
     ]
    }
   ],
   "source": [
    "# Checking matching result\n",
    "counter=0\n",
    "for idx, row in bee_friendly_data.iterrows():\n",
    "    for idx1, row1 in waterwise_plants.iterrows():\n",
    "        if row[\"Plant ID\"]==row1[\"Plant ID\"]:\n",
    "            print(row[\"Plant ID\"],\":\",row[\"Botanical name\"],\"--\",row1[\"Botanical Name\"])\n",
    "            counter+=1\n",
    "print(counter)"
   ]
  },
  {
   "cell_type": "code",
   "execution_count": 344,
   "metadata": {},
   "outputs": [],
   "source": [
    "# Saving datasets\n",
    "bee_friendly_data.to_csv('bee_friendly_data_cleaned.csv', index = False)\n",
    "waterwise_plants.to_csv('waterwise_plants_cleaned.csv', index = False)"
   ]
  },
  {
   "cell_type": "markdown",
   "metadata": {},
   "source": [
    "# Datasets - More Wrangling"
   ]
  },
  {
   "cell_type": "code",
   "execution_count": 456,
   "metadata": {},
   "outputs": [],
   "source": [
    "# Loading Bee Friendly & Waterwise datasets\n",
    "\n",
    "waterwise_plants = pd.read_csv(\"waterwise_plants_cleaned.csv\")\n",
    "bee_friendly_data = pd.read_csv(\"bee_friendly_data_cleaned.csv\")\n",
    "\n",
    "waterwise_plants[\"Plant ID\"] = waterwise_plants[\"Plant ID\"].astype(int)\n",
    "bee_friendly_data[\"Plant ID\"] = bee_friendly_data[\"Plant ID\"].astype(int)"
   ]
  },
  {
   "cell_type": "code",
   "execution_count": 457,
   "metadata": {},
   "outputs": [],
   "source": [
    "# Cleaning \"Flower Colour\" column\n",
    "\n",
    "waterwise_plants[\"Flower colour\"] = waterwise_plants[\"Flower colour\"].apply(lambda x: x.strip().lower())"
   ]
  },
  {
   "cell_type": "code",
   "execution_count": 458,
   "metadata": {},
   "outputs": [],
   "source": [
    "# Change Lavender to Purple\n",
    "\n",
    "for idx,row in waterwise_plants.iterrows():\n",
    "    if \"lavender\" in row[\"Flower colour\"].split():\n",
    "        correct_colour=\"\"\n",
    "        for each in row[\"Flower colour\"].split():\n",
    "            if each!=\"lavender\":\n",
    "                correct_colour+=each+\" \"\n",
    "            else: \n",
    "                correct_colour+=\"purple \"\n",
    "        waterwise_plants.loc[idx,\"Flower colour\"] = correct_colour.strip()"
   ]
  },
  {
   "cell_type": "code",
   "execution_count": 460,
   "metadata": {},
   "outputs": [
    {
     "data": {
      "text/plain": [
       "array(['white', 'yellow', 'blue', 'purple', 'cream', 'pink', 'orange',\n",
       "       'red', 'insignificant', 'red and pink', 'white and purple',\n",
       "       'white and pink'], dtype=object)"
      ]
     },
     "execution_count": 460,
     "metadata": {},
     "output_type": "execute_result"
    }
   ],
   "source": [
    "# Filter waterwise based on flower colors (Only single Color) and recommendation by the BeeFrienly Guid \n",
    "\n",
    "accepted_colours = [\"blue\",\"purple\", \"yellow\", \"white\"]\n",
    "filtered_waterwise=[]\n",
    "for idx,row in waterwise_plants.iterrows():\n",
    "    \n",
    "    if row[\"Flower colour\"] in accepted_colours:\n",
    "        filtered_waterwise.append(row)\n",
    "    elif row[\"Plant ID\"] in bee_friendly_data[\"Plant ID\"].tolist():\n",
    "        filtered_waterwise.append(row)\n",
    "\n",
    "filtered_waterwise_plants = pd.DataFrame(filtered_waterwise)\n",
    "filtered_waterwise_plants = filtered_waterwise_plants.drop_duplicates()\n",
    "\n",
    "filtered_waterwise_plants[\"Flower colour\"].unique()"
   ]
  },
  {
   "cell_type": "code",
   "execution_count": 462,
   "metadata": {},
   "outputs": [],
   "source": [
    "# Removing plants that are not for Gardens according to BeeFriendly Guide - Not all can be filtered\n",
    "\n",
    "# Plant IDs not Gardens\n",
    "Nogarden_ID=bee_friendly_data[bee_friendly_data[\"Garden\"]!=1][\"Plant ID\"].unique().tolist()\n",
    "\n",
    "filtered_waterwise=[]\n",
    "for idx,row in filtered_waterwise_plants.iterrows():\n",
    "    \n",
    "    if row[\"Plant ID\"] not in Nogarden_ID:\n",
    "        filtered_waterwise.append(row)\n",
    "\n",
    "filtered_waterwise_plants = pd.DataFrame(filtered_waterwise)"
   ]
  },
  {
   "cell_type": "code",
   "execution_count": 464,
   "metadata": {},
   "outputs": [],
   "source": [
    "# Creating New Column for general plant class, current one becomes Plant Type Detail, new one is Plant Type\n",
    "\"\"\"\n",
    "Rules:\n",
    "\n",
    "- If type contains any of \"Herb\", \"Shrub\", \"Tree\" then take the 1st part as a TYPE\n",
    "'Herb,Shrub', 'Herb,Tree', 'Herb,Shrub', 'Shrub,Small Tree', 'Shrub, Small Tree, Medium Tree',\n",
    "\n",
    "- Herb if 'Climber', 'Climber,Fern', 'Succulent', 'Bromeliad', 'Groundcover', 'Bulb', 'Orchid', 'Grass', 'Fern'\n",
    "- Shrub if 'Palms and Cycads'\n",
    "\n",
    "- Aquatic if 'Aquatic,Perennial','Aquatic'\n",
    "- Fruit/Vegetable if  \n",
    "\n",
    "\"Annual,Vegetable\" , \"Perennial\", 'Perennial,Vegetable', 'Fruit,Perennial', 'Climber,Vegetable',\"Climber,Fruit\", 'Bromeliad,Fruit', 'Annual' \n",
    "\n",
    "\"\"\"\n",
    "\n",
    "herb_list=['Climber', 'Climber,Fern', 'Succulent', 'Bromeliad', 'Groundcover', 'Bulb', 'Orchid', 'Grass', 'Fern']\n",
    "herb_list=[x.lower() for x in herb_list]\n",
    "shrub_list=['palms and cycads']\n",
    "aquatic_list=['aquatic,perennial','aquatic']\n",
    "fru_veg_list=[\"fruit\",\"vegetable\",\"annual,vegetable\" , \"perennial\", 'perennial,vegetable', 'fruit,perennial', 'climber,vegetable',\"climber,fruit\", 'bromeliad,fruit', 'annual']\n",
    "\n",
    "filtered_waterwise_plants[\"Plant Type Details\"] = filtered_waterwise_plants[\"Plant Type\"]\n",
    "filtered_waterwise_plants[\"Plant Type\"]=filtered_waterwise_plants[\"Plant Type\"].apply(lambda x: x.lower().strip())\n"
   ]
  },
  {
   "cell_type": "code",
   "execution_count": 465,
   "metadata": {},
   "outputs": [],
   "source": [
    "for idx, row in filtered_waterwise_plants.iterrows():\n",
    "    if row[\"Plant Type\"] not in [\"herb\", \"shrub\", \"tree\"]:\n",
    "        if row[\"Plant Type\"].split(\",\")[0] in [\"herb\", \"shrub\", \"tree\"]:\n",
    "            filtered_waterwise_plants.loc[idx,\"Plant Type\"]=row[\"Plant Type\"].split(\",\")[0]\n",
    "        elif \"tree\" in row[\"Plant Type\"].split():\n",
    "            filtered_waterwise_plants.loc[idx,\"Plant Type\"]=\"tree\"\n",
    "        \n",
    "        elif row[\"Plant Type\"] in herb_list:\n",
    "            filtered_waterwise_plants.loc[idx,\"Plant Type\"]=\"herb\"\n",
    "        elif row[\"Plant Type\"] in shrub_list:\n",
    "            filtered_waterwise_plants.loc[idx,\"Plant Type\"]=\"shrub\"\n",
    "        elif row[\"Plant Type\"] in aquatic_list:\n",
    "            filtered_waterwise_plants.loc[idx,\"Plant Type\"]=\"aquatic\"\n",
    "        elif row[\"Plant Type\"] in fru_veg_list:\n",
    "            filtered_waterwise_plants.loc[idx,\"Plant Type\"]=\"fruit/vegetable\"    \n",
    "        elif row[\"Plant Type\"].split(\",\")[1] in [\"herb\", \"shrub\", \"tree\"]:\n",
    "            filtered_waterwise_plants.loc[idx,\"Plant Type\"]=row[\"Plant Type\"].split(\",\")[1]\n",
    "        "
   ]
  },
  {
   "cell_type": "code",
   "execution_count": 466,
   "metadata": {},
   "outputs": [
    {
     "data": {
      "text/plain": [
       "array(['shrub', 'fruit/vegetable', 'tree', 'herb', 'aquatic'],\n",
       "      dtype=object)"
      ]
     },
     "execution_count": 466,
     "metadata": {},
     "output_type": "execute_result"
    }
   ],
   "source": [
    "filtered_waterwise_plants[\"Plant Type\"].unique()"
   ]
  },
  {
   "cell_type": "code",
   "execution_count": 467,
   "metadata": {
    "scrolled": true
   },
   "outputs": [
    {
     "data": {
      "text/plain": [
       "array(['Shrub', 'Annual,Vegetable', 'Vegetable', 'Small Tree',\n",
       "       'Medium Tree', 'Climber,Fruit', 'Large Tree', 'Climber',\n",
       "       'Bromeliad', 'Fruit,Tree', 'Succulent', 'Perennial',\n",
       "       'Herb,Perennial', 'Herb,Shrub', 'Bulb', 'Annual,Herb', 'Orchid',\n",
       "       'Aquatic', 'Perennial,Vegetable', 'Groundcover',\n",
       "       'Shrub,Small Tree', 'Aquatic,Herb', 'Climber,Vegetable',\n",
       "       'Palms and Cycads', 'Annual', 'Aquatic,Perennial',\n",
       "       'Shrub,Vegetable', 'Shrub, Small Tree, Medium Tree', 'Fern',\n",
       "       'Grass', 'Tree', 'Fruit,Perennial', 'Shrub, Small Tree',\n",
       "       'Climber,Shrub', 'Herb', 'Herb,Tree', 'Tree,Vegetable',\n",
       "       'Groundcover,Herb', 'Fruit,Shrub', 'Shrub '], dtype=object)"
      ]
     },
     "execution_count": 467,
     "metadata": {},
     "output_type": "execute_result"
    }
   ],
   "source": [
    "filtered_waterwise_plants[\"Plant Type Details\"].unique()"
   ]
  },
  {
   "cell_type": "code",
   "execution_count": 468,
   "metadata": {},
   "outputs": [],
   "source": [
    "# Removing \"Medium Tree\" and\"Large Tree\"\n",
    "filtered_waterwise_plants = filtered_waterwise_plants[(filtered_waterwise_plants[\"Plant Type Details\"]!=\"Medium Tree\") \n",
    "                          & (filtered_waterwise_plants[\"Plant Type Details\"]!=\"Large Tree\")]"
   ]
  },
  {
   "cell_type": "code",
   "execution_count": 470,
   "metadata": {
    "scrolled": true
   },
   "outputs": [],
   "source": [
    "# Create addition columns on Waterwise using names from BeeFriendly\n",
    "\n",
    "filtered_waterwise_plants[\"Botanical Name BeeFrinedly\"]=\"\"\n",
    "filtered_waterwise_plants[\"Common Name BeeFrinedly\"]=\"\"\n",
    "for idx,row in filtered_waterwise_plants.iterrows():\n",
    "    if row[\"Plant ID\"] in bee_friendly_data[\"Plant ID\"].tolist():\n",
    "        filtered_waterwise_plants.loc[idx,\"Botanical Name BeeFrinedly\"] = bee_friendly_data[bee_friendly_data[\"Plant ID\"]==row[\"Plant ID\"]][\"Botanical name\"].values[0]\n",
    "        filtered_waterwise_plants.loc[idx,\"Common Name BeeFrinedly\"] = bee_friendly_data[bee_friendly_data[\"Plant ID\"]==row[\"Plant ID\"]][\"Common name\"].values[0]  \n",
    "    "
   ]
  },
  {
   "cell_type": "code",
   "execution_count": 473,
   "metadata": {},
   "outputs": [],
   "source": [
    "# Filtering out non-native plants\n",
    "\n",
    "filtered_waterwise_plants[\"Native\"]=filtered_waterwise_plants[\"Native\"].apply(lambda x: x.lower().strip())\n",
    "filtered_waterwise_plants=filtered_waterwise_plants[filtered_waterwise_plants[\"Native\"]==\"yes\"]"
   ]
  },
  {
   "cell_type": "code",
   "execution_count": 475,
   "metadata": {},
   "outputs": [
    {
     "data": {
      "text/plain": [
       "(354, 42)"
      ]
     },
     "execution_count": 475,
     "metadata": {},
     "output_type": "execute_result"
    }
   ],
   "source": [
    "filtered_waterwise_plants.shape"
   ]
  },
  {
   "cell_type": "code",
   "execution_count": 477,
   "metadata": {},
   "outputs": [],
   "source": [
    "# Saving data\n",
    "filtered_waterwise_plants.to_csv('waterwise_plants_cleaned_filtered.csv', index = False)"
   ]
  },
  {
   "cell_type": "markdown",
   "metadata": {},
   "source": [
    "# Waterwise - VBA - Matching"
   ]
  },
  {
   "cell_type": "code",
   "execution_count": 478,
   "metadata": {},
   "outputs": [],
   "source": [
    "# Loads Flora Atlas data from ala.org.au\n",
    "plants_vba = pd.read_csv(\"Plants_VBA.csv\")"
   ]
  },
  {
   "cell_type": "code",
   "execution_count": 479,
   "metadata": {},
   "outputs": [
    {
     "data": {
      "text/plain": [
       "(2888365, 57)"
      ]
     },
     "execution_count": 479,
     "metadata": {},
     "output_type": "execute_result"
    }
   ],
   "source": [
    "plants_vba.shape"
   ]
  },
  {
   "cell_type": "code",
   "execution_count": 482,
   "metadata": {},
   "outputs": [],
   "source": [
    "# Waterwise\n",
    "waterwise_name_columns=[\"Botanical Name\",\n",
    "'Botanical Name BeeFrinedly',\n",
    "\"Previous Name\",\n",
    "'Common Name BeeFrinedly',\n",
    "\"Common Name\"]"
   ]
  },
  {
   "cell_type": "code",
   "execution_count": 483,
   "metadata": {},
   "outputs": [],
   "source": [
    "# VBA\n",
    "vba_name_columns=[\n",
    "    'Species',\n",
    "    'Scientific Name',\n",
    "    \"Scientific Name - original\",\n",
    "    'Vernacular name',\n",
    "    \"Vernacular name - original\"]"
   ]
  },
  {
   "cell_type": "code",
   "execution_count": 484,
   "metadata": {},
   "outputs": [],
   "source": [
    "# VBA dropping duplicateds to get only plants not occurrences\n",
    "\n",
    "plants_vba_nodup = plants_vba.copy()\n",
    "plants_vba_nodup.drop_duplicates(subset ='Scientific Name', keep = 'first', inplace = True) "
   ]
  },
  {
   "cell_type": "code",
   "execution_count": 485,
   "metadata": {},
   "outputs": [
    {
     "data": {
      "text/plain": [
       "(5970, 57)"
      ]
     },
     "execution_count": 485,
     "metadata": {},
     "output_type": "execute_result"
    }
   ],
   "source": [
    "plants_vba_nodup.shape"
   ]
  },
  {
   "cell_type": "code",
   "execution_count": 486,
   "metadata": {},
   "outputs": [],
   "source": [
    "# Matching Waterwise to VBA : Exact Name Matching\n",
    "\n",
    "plants_vba_nodup[\"Plant ID\"] = 0\n",
    "filtered_waterwise_plants[\"Record ID\"] = 0\n",
    "\n",
    "for idx, row in filtered_waterwise_plants.iterrows():\n",
    "    for column_wa in waterwise_name_columns:\n",
    "        for idx2, row2 in plants_vba_nodup.iterrows():\n",
    "            for column_vba in vba_name_columns:\n",
    "                try:\n",
    "                    if row[column_wa].lower() == row2[column_vba].lower():\n",
    "                        plants_vba_nodup.loc[idx2,\"Plant ID\"] = row[\"Plant ID\"]\n",
    "                        filtered_waterwise_plants.loc[idx,\"Record ID\"] = row2[\"Record ID\"]\n",
    "                        \n",
    "                    break\n",
    "                except:\n",
    "                    pass"
   ]
  },
  {
   "cell_type": "code",
   "execution_count": 487,
   "metadata": {},
   "outputs": [],
   "source": [
    "# Saving results\n",
    "filtered_waterwise_plants.to_csv('waterwise_plants_cleaned_filtered_vbamatched.csv', index = False)\n",
    "plants_vba_nodup.to_csv('plants_vba_nodup.csv', index = False)"
   ]
  },
  {
   "cell_type": "code",
   "execution_count": null,
   "metadata": {},
   "outputs": [],
   "source": [
    "# Matching Waterwise to VBA : If Name is contained in"
   ]
  },
  {
   "cell_type": "code",
   "execution_count": 490,
   "metadata": {},
   "outputs": [],
   "source": [
    "# Function to remove some notations\n",
    "\n",
    "remove_list=[\n",
    "    \"subsp.\",\n",
    "    \"sp.\", \n",
    "    \"ssp.\"]\n",
    "    \n",
    "def clean_list(inputlist):\n",
    "    return [x for x in inputlist if x not in remove_list]\n"
   ]
  },
  {
   "cell_type": "code",
   "execution_count": 491,
   "metadata": {},
   "outputs": [],
   "source": [
    "# Function to match two names\n",
    "\n",
    "def matcher(intext, outertext):\n",
    "            \n",
    "    # if emtpy nothing will be done \n",
    "    if (not pd.isna(intext)) and (not pd.isna(outertext)) :\n",
    "        \n",
    "        # Creating a list from names after text processing\n",
    "        intext_list = clean_list(intext.replace(\"'\",\"\").lower().strip().split())\n",
    "        outertext_list = clean_list(outertext.replace(\"'\",\"\").lower().strip().split())\n",
    "        \n",
    "        if (len(intext_list)!=0) and (len(outertext_list)!=0):\n",
    "        \n",
    "            if \"var.\" in intext_list:\n",
    "                part1=[]\n",
    "                part2=[]\n",
    "                var_loc=10\n",
    "\n",
    "                for i in range(len(intext_list)):\n",
    "                    if (intext_list[i] != \"var.\") and (i<var_loc):\n",
    "                        part1.append(intext_list[i])\n",
    "                    elif intext_list[i] == \"var.\": \n",
    "                        var_loc=i\n",
    "                    else:\n",
    "                        part2.append(intext_list[i])\n",
    "                if (set(part1).issubset(set(outertext_list))) or (set(part2).issubset(set(outertext_list))):\n",
    "                    outcome = True\n",
    "                else:\n",
    "                    outcome = False\n",
    "\n",
    "            elif set(intext_list).issubset(set(outertext_list)):\n",
    "                outcome = True\n",
    "            else:\n",
    "                outcome = False\n",
    "        else:\n",
    "            outcome = False\n",
    "    else:\n",
    "        outcome = False\n",
    "\n",
    "    return outcome"
   ]
  },
  {
   "cell_type": "code",
   "execution_count": 492,
   "metadata": {
    "collapsed": true
   },
   "outputs": [
    {
     "name": "stdout",
     "output_type": "stream",
     "text": [
      "37\n",
      "37\n",
      "37\n",
      "44\n",
      "904\n",
      "907\n",
      "1011\n",
      "1011\n",
      "1011\n",
      "1011\n",
      "1011\n",
      "1070\n",
      "1687\n",
      "1687\n",
      "2268\n",
      "2593\n",
      "2593\n",
      "2731\n",
      "2914\n",
      "2940\n",
      "2942\n",
      "3009\n",
      "3009\n",
      "3063\n",
      "3063\n",
      "3063\n",
      "3063\n",
      "3063\n",
      "3063\n",
      "3063\n",
      "3063\n",
      "3063\n",
      "3063\n",
      "3063\n",
      "3063\n",
      "3063\n",
      "3063\n",
      "3063\n",
      "3063\n",
      "3063\n",
      "3063\n",
      "3063\n",
      "3063\n",
      "3177\n",
      "3673\n",
      "3673\n",
      "3673\n",
      "4332\n",
      "4332\n",
      "4513\n",
      "4513\n",
      "4519\n",
      "4519\n",
      "4520\n"
     ]
    }
   ],
   "source": [
    "# MAtching by checking if names are contained in the other names\n",
    "\n",
    "plant_id_rule_matched = []\n",
    "\n",
    "for idx, row in filtered_waterwise_plants.iterrows():\n",
    "    if row[\"Record ID\"]==0:\n",
    "        for column_wa in waterwise_name_columns:\n",
    "            for idx2, row2 in plants_vba_nodup.iterrows():\n",
    "                if row2[\"Plant ID\"]==0:\n",
    "                    for column_vba in vba_name_columns:\n",
    "                        if matcher(row[column_wa],row2[column_vba]):\n",
    "                            plants_vba_nodup.loc[idx2,\"Plant ID\"] = row[\"Plant ID\"]\n",
    "                            filtered_waterwise_plants.loc[idx,\"Record ID\"] = row2[\"Record ID\"]\n",
    "                            plant_id_rule_matched.append(row[\"Plant ID\"])\n",
    "                            print(row[\"Plant ID\"])\n",
    "                            break\n"
   ]
  },
  {
   "cell_type": "code",
   "execution_count": 495,
   "metadata": {},
   "outputs": [],
   "source": [
    "filtered_waterwise_plants.to_csv('waterwise_plants_cleaned_filtered_vbamatched2.csv', index = False)\n",
    "plants_vba_nodup.to_csv('plants_vba_nodup2.csv', index = False)"
   ]
  },
  {
   "cell_type": "markdown",
   "metadata": {},
   "source": [
    "\n",
    "# Generating Datasets designed for the project\n"
   ]
  },
  {
   "cell_type": "markdown",
   "metadata": {},
   "source": [
    "### Plants"
   ]
  },
  {
   "cell_type": "code",
   "execution_count": null,
   "metadata": {},
   "outputs": [],
   "source": [
    "# Plants\n",
    "plants = filtered_waterwise_plants[['Plant ID','Plant Type', 'Plant Type Details', \n",
    "                                 'Botanical Name', 'Common Name', 'Flower colour']]"
   ]
  },
  {
   "cell_type": "code",
   "execution_count": 515,
   "metadata": {},
   "outputs": [],
   "source": [
    "bee_friendly_data[\"flower season\"]=\"\"\n",
    "for idx, row in bee_friendly_data.iterrows():\n",
    "    if row['Jan'] == 1: bee_friendly_data.loc[idx,\"flower season\"] = bee_friendly_data.loc[idx,\"flower season\"]+\"1,\"\n",
    "    if row['Feb'] == 1: bee_friendly_data.loc[idx,\"flower season\"] = bee_friendly_data.loc[idx,\"flower season\"]+\"2,\"\n",
    "    if row['Mar'] == 1: bee_friendly_data.loc[idx,\"flower season\"] = bee_friendly_data.loc[idx,\"flower season\"]+\"3,\"\n",
    "    if row['Apr'] == 1: bee_friendly_data.loc[idx,\"flower season\"] = bee_friendly_data.loc[idx,\"flower season\"]+\"4,\"\n",
    "    if row['May'] == 1: bee_friendly_data.loc[idx,\"flower season\"] = bee_friendly_data.loc[idx,\"flower season\"]+\"5,\"\n",
    "    if row['Jun'] == 1: bee_friendly_data.loc[idx,\"flower season\"] = bee_friendly_data.loc[idx,\"flower season\"]+\"6,\"\n",
    "    if row['Jul'] == 1: bee_friendly_data.loc[idx,\"flower season\"] = bee_friendly_data.loc[idx,\"flower season\"]+\"7,\"\n",
    "    if row['Aug'] == 1: bee_friendly_data.loc[idx,\"flower season\"] = bee_friendly_data.loc[idx,\"flower season\"]+\"8,\"\n",
    "    if row['Sep'] == 1: bee_friendly_data.loc[idx,\"flower season\"] = bee_friendly_data.loc[idx,\"flower season\"]+\"9,\"\n",
    "    if row['Oct'] == 1: bee_friendly_data.loc[idx,\"flower season\"] = bee_friendly_data.loc[idx,\"flower season\"]+\"10,\"\n",
    "    if row['Nov'] == 1: bee_friendly_data.loc[idx,\"flower season\"] = bee_friendly_data.loc[idx,\"flower season\"]+\"11,\"\n",
    "    if row['Dec'] == 1: bee_friendly_data.loc[idx,\"flower season\"] = bee_friendly_data.loc[idx,\"flower season\"]+\"12,\"\n",
    "    bee_friendly_data.loc[idx,\"flower season\"] = bee_friendly_data.loc[idx,\"flower season\"][0:-1]"
   ]
  },
  {
   "cell_type": "code",
   "execution_count": 518,
   "metadata": {
    "collapsed": true
   },
   "outputs": [
    {
     "name": "stderr",
     "output_type": "stream",
     "text": [
      "C:\\Users\\Orgil\\Anaconda3\\lib\\site-packages\\pandas\\core\\indexing.py:376: SettingWithCopyWarning: \n",
      "A value is trying to be set on a copy of a slice from a DataFrame.\n",
      "Try using .loc[row_indexer,col_indexer] = value instead\n",
      "\n",
      "See the caveats in the documentation: http://pandas.pydata.org/pandas-docs/stable/user_guide/indexing.html#returning-a-view-versus-a-copy\n",
      "  self.obj[key] = _infer_fill_value(value)\n",
      "C:\\Users\\Orgil\\Anaconda3\\lib\\site-packages\\pandas\\core\\indexing.py:494: SettingWithCopyWarning: \n",
      "A value is trying to be set on a copy of a slice from a DataFrame.\n",
      "Try using .loc[row_indexer,col_indexer] = value instead\n",
      "\n",
      "See the caveats in the documentation: http://pandas.pydata.org/pandas-docs/stable/user_guide/indexing.html#returning-a-view-versus-a-copy\n",
      "  self.obj[item] = s\n"
     ]
    }
   ],
   "source": [
    "# Adding flower type 'flower season'\n",
    "for idx, row in plants.iterrows():\n",
    "    for idx2, row2 in bee_friendly_data.iterrows():\n",
    "        if row[\"Plant ID\"] == row2[\"Plant ID\"]:\n",
    "            plants.loc[idx,\"flower season\"] = row2[\"flower season\"]\n"
   ]
  },
  {
   "cell_type": "code",
   "execution_count": 614,
   "metadata": {
    "collapsed": true
   },
   "outputs": [
    {
     "name": "stderr",
     "output_type": "stream",
     "text": [
      "C:\\Users\\Orgil\\Anaconda3\\lib\\site-packages\\ipykernel_launcher.py:2: SettingWithCopyWarning: \n",
      "A value is trying to be set on a copy of a slice from a DataFrame.\n",
      "Try using .loc[row_indexer,col_indexer] = value instead\n",
      "\n",
      "See the caveats in the documentation: http://pandas.pydata.org/pandas-docs/stable/user_guide/indexing.html#returning-a-view-versus-a-copy\n",
      "  \n"
     ]
    }
   ],
   "source": [
    "# 'img_link'\n",
    "plants['img_link']= float('nan')\n",
    "for idx, row in plants.iterrows():\n",
    "    if row[\"Plant ID\"] not in notfound:\n",
    "        plants.loc[idx,'img_link'] = \"images/gallery-img-\"+str(row[\"Plant ID\"])+\".jpg\"\n"
   ]
  },
  {
   "cell_type": "code",
   "execution_count": 615,
   "metadata": {},
   "outputs": [],
   "source": [
    "plants.to_csv('plants.csv', index = False)"
   ]
  },
  {
   "cell_type": "markdown",
   "metadata": {},
   "source": [
    "### Plant Guide"
   ]
  },
  {
   "cell_type": "code",
   "execution_count": 537,
   "metadata": {},
   "outputs": [],
   "source": [
    "plant_guide = filtered_waterwise_plants[['Plant ID','Water Needs','Light Needs', 'Soil Type','Soil Additional',\n",
    "                                         'Height Ranges', 'Spread Ranges', 'Maintenance',\n",
    "                                         'Climate Zones', \"Perfume\", \"Aromatic\"]]"
   ]
  },
  {
   "cell_type": "code",
   "execution_count": 541,
   "metadata": {
    "collapsed": true
   },
   "outputs": [
    {
     "name": "stderr",
     "output_type": "stream",
     "text": [
      "C:\\Users\\Orgil\\Anaconda3\\lib\\site-packages\\ipykernel_launcher.py:1: SettingWithCopyWarning: \n",
      "A value is trying to be set on a copy of a slice from a DataFrame.\n",
      "Try using .loc[row_indexer,col_indexer] = value instead\n",
      "\n",
      "See the caveats in the documentation: http://pandas.pydata.org/pandas-docs/stable/user_guide/indexing.html#returning-a-view-versus-a-copy\n",
      "  \"\"\"Entry point for launching an IPython kernel.\n"
     ]
    }
   ],
   "source": [
    "# Soil Additional - n if null, and smell column from perfume and aromatic\n",
    "plant_guide[\"smell\"] = 0 \n",
    "for idx, row in plant_guide.iterrows():\n",
    "    if pd.isna(row['Soil Additional']):\n",
    "        plant_guide.loc[idx,'Soil Additional'] = \"n\"\n",
    "    if  (row[\"Perfume\"] == \"Yes\") or (row[\"Aromatic\"] == \"Yes\"):\n",
    "        plant_guide.loc[idx,\"smell\"]= 1"
   ]
  },
  {
   "cell_type": "code",
   "execution_count": 598,
   "metadata": {},
   "outputs": [],
   "source": [
    "# Dropping unnecessary columns and saving\n",
    "plant_guide['Climate']=plant_guide['Climate Zones']\n",
    "plant_guide = plant_guide.drop(['Perfume','Aromatic','Climate Zones'], 1)\n",
    "# plant_guide.to_csv('plant_guide.csv', index = False)"
   ]
  },
  {
   "cell_type": "code",
   "execution_count": null,
   "metadata": {},
   "outputs": [],
   "source": [
    "# Converting water needs into human interpretatable language\n",
    "\n",
    "plant_guide[\"Water_Need_Min_Annual_litre_m2\"] = 0\n",
    "plant_guide[\"Water_Need_Max_Annual_litre_m2\"] = 0\n",
    "plant_guide[\"Water_Need_Min_Monthly_litre_m2\"] = 0\n",
    "plant_guide[\"Water_Need_Max_Monthly_litre_m2\"] = 0\n",
    "plant_guide[\"Water_Need_Min_Weekly_litre_m2\"] = 0\n",
    "plant_guide[\"Water_Need_Max_Weekly_litre_m2\"] = 0\n",
    "\n",
    "for idx, row in plant_guide.iterrows():\n",
    "    if row[\"Water Needs\"] != 'aquatic environment':\n",
    "        plant_guide.loc[idx,\"Water_Need_Min_Annual_litre_m2\"] = int(row[\"Water Needs\"].split()[0])\n",
    "        plant_guide.loc[idx,\"Water_Need_Max_Annual_litre_m2\"] = int(row[\"Water Needs\"].split()[2][:-2])\n",
    "        plant_guide.loc[idx,\"Water_Need_Min_Monthly_litre_m2\"] = round(int(row[\"Water Needs\"].split()[0])/12,0)\n",
    "        plant_guide.loc[idx,\"Water_Need_Max_Monthly_litre_m2\"] = round(int(row[\"Water Needs\"].split()[2][:-2])/12,0)\n",
    "        plant_guide.loc[idx,\"Water_Need_Min_Weekly_litre_m2\"] = round(int(row[\"Water Needs\"].split()[0])/48,0)\n",
    "        plant_guide.loc[idx,\"Water_Need_Max_Weekly_litre_m2\"] = round(int(row[\"Water Needs\"].split()[2][:-2])/48,0)\n"
   ]
  },
  {
   "cell_type": "code",
   "execution_count": null,
   "metadata": {},
   "outputs": [],
   "source": [
    "plant_guide.to_csv('plant_guide.csv', index = False)"
   ]
  },
  {
   "cell_type": "markdown",
   "metadata": {},
   "source": [
    "### Occurence\n"
   ]
  },
  {
   "cell_type": "code",
   "execution_count": 547,
   "metadata": {},
   "outputs": [
    {
     "data": {
      "text/plain": [
       "91"
      ]
     },
     "execution_count": 547,
     "metadata": {},
     "output_type": "execute_result"
    }
   ],
   "source": [
    "# dict to store Scientific names of occurance available plants\n",
    "Plant_ID_Sc_Name={}\n",
    "\n",
    "for idx, row in plants_vba_nodup.iterrows():\n",
    "    if row[\"Plant ID\"] != 0:\n",
    "        Plant_ID_Sc_Name[row[\"Plant ID\"]]=row[\"Scientific Name\"]\n"
   ]
  },
  {
   "cell_type": "code",
   "execution_count": 566,
   "metadata": {
    "collapsed": true
   },
   "outputs": [
    {
     "name": "stderr",
     "output_type": "stream",
     "text": [
      "C:\\Users\\Orgil\\Anaconda3\\lib\\site-packages\\ipykernel_launcher.py:5: SettingWithCopyWarning: \n",
      "A value is trying to be set on a copy of a slice from a DataFrame.\n",
      "Try using .loc[row_indexer,col_indexer] = value instead\n",
      "\n",
      "See the caveats in the documentation: http://pandas.pydata.org/pandas-docs/stable/user_guide/indexing.html#returning-a-view-versus-a-copy\n",
      "  \"\"\"\n"
     ]
    },
    {
     "data": {
      "text/html": [
       "<div>\n",
       "<style scoped>\n",
       "    .dataframe tbody tr th:only-of-type {\n",
       "        vertical-align: middle;\n",
       "    }\n",
       "\n",
       "    .dataframe tbody tr th {\n",
       "        vertical-align: top;\n",
       "    }\n",
       "\n",
       "    .dataframe thead th {\n",
       "        text-align: right;\n",
       "    }\n",
       "</style>\n",
       "<table border=\"1\" class=\"dataframe\">\n",
       "  <thead>\n",
       "    <tr style=\"text-align: right;\">\n",
       "      <th></th>\n",
       "      <th>Record ID</th>\n",
       "      <th>Scientific Name</th>\n",
       "      <th>Latitude</th>\n",
       "      <th>Longitude</th>\n",
       "      <th>Event Date - parsed</th>\n",
       "      <th>Plant ID</th>\n",
       "    </tr>\n",
       "  </thead>\n",
       "  <tbody>\n",
       "    <tr>\n",
       "      <td>2050581</td>\n",
       "      <td>01100a4f-96ff-488e-81dc-b06e64375f42</td>\n",
       "      <td>Ulota lutea var. lutea</td>\n",
       "      <td>-37.5261</td>\n",
       "      <td>145.4158</td>\n",
       "      <td>2008-08-24</td>\n",
       "      <td>1011</td>\n",
       "    </tr>\n",
       "    <tr>\n",
       "      <td>2395562</td>\n",
       "      <td>66e78543-6d5d-41d7-abc2-32e1676aa730</td>\n",
       "      <td>Ulota lutea var. lutea</td>\n",
       "      <td>-37.3163</td>\n",
       "      <td>148.8688</td>\n",
       "      <td>1983-01-01</td>\n",
       "      <td>1011</td>\n",
       "    </tr>\n",
       "    <tr>\n",
       "      <td>2633750</td>\n",
       "      <td>4d85d181-2b65-47b8-ba3f-bddf58ba38ab</td>\n",
       "      <td>Ulota lutea var. lutea</td>\n",
       "      <td>-37.3180</td>\n",
       "      <td>148.8690</td>\n",
       "      <td>1983-01-01</td>\n",
       "      <td>1011</td>\n",
       "    </tr>\n",
       "    <tr>\n",
       "      <td>38499</td>\n",
       "      <td>fb167f07-e0cf-4adc-bc95-72fc8286a76b</td>\n",
       "      <td>Acacia penninervis var. penninervis</td>\n",
       "      <td>-36.8456</td>\n",
       "      <td>145.3886</td>\n",
       "      <td>2011-05-18</td>\n",
       "      <td>4513</td>\n",
       "    </tr>\n",
       "    <tr>\n",
       "      <td>448451</td>\n",
       "      <td>e64ffe7d-48f9-4948-b140-7d0617f9ee00</td>\n",
       "      <td>Acacia penninervis var. penninervis</td>\n",
       "      <td>-37.7311</td>\n",
       "      <td>146.7017</td>\n",
       "      <td>2012-01-08</td>\n",
       "      <td>4513</td>\n",
       "    </tr>\n",
       "  </tbody>\n",
       "</table>\n",
       "</div>"
      ],
      "text/plain": [
       "                                    Record ID  \\\n",
       "2050581  01100a4f-96ff-488e-81dc-b06e64375f42   \n",
       "2395562  66e78543-6d5d-41d7-abc2-32e1676aa730   \n",
       "2633750  4d85d181-2b65-47b8-ba3f-bddf58ba38ab   \n",
       "38499    fb167f07-e0cf-4adc-bc95-72fc8286a76b   \n",
       "448451   e64ffe7d-48f9-4948-b140-7d0617f9ee00   \n",
       "\n",
       "                             Scientific Name  Latitude  Longitude  \\\n",
       "2050581               Ulota lutea var. lutea  -37.5261   145.4158   \n",
       "2395562               Ulota lutea var. lutea  -37.3163   148.8688   \n",
       "2633750               Ulota lutea var. lutea  -37.3180   148.8690   \n",
       "38499    Acacia penninervis var. penninervis  -36.8456   145.3886   \n",
       "448451   Acacia penninervis var. penninervis  -37.7311   146.7017   \n",
       "\n",
       "        Event Date - parsed  Plant ID  \n",
       "2050581          2008-08-24      1011  \n",
       "2395562          1983-01-01      1011  \n",
       "2633750          1983-01-01      1011  \n",
       "38499            2011-05-18      4513  \n",
       "448451           2012-01-08      4513  "
      ]
     },
     "execution_count": 566,
     "metadata": {},
     "output_type": "execute_result"
    }
   ],
   "source": [
    "occurance = plants_vba[['Record ID','Scientific Name','Latitude', 'Longitude', 'Event Date - parsed']]\n",
    "\n",
    "occurance_selected = pd.DataFrame()\n",
    "\n",
    "for key, item in Plant_ID_Sc_Name.items():\n",
    "    df = occurance[occurance['Scientific Name']==item]\n",
    "    df[\"Plant ID\"] = key\n",
    "    occurance_selected = pd.concat([occurance_selected,df])\n"
   ]
  },
  {
   "cell_type": "code",
   "execution_count": 587,
   "metadata": {},
   "outputs": [],
   "source": [
    "# Fixing formats and removing unncessary columns and Saving\n",
    "occurance_selected['datetime'] =  pd.to_datetime(occurance_selected['Event Date - parsed'], format='%Y-%m-%d')\n",
    "occurance_selected = occurance_selected.drop(['Scientific Name',\"Event Date - parsed\"], 1)\n",
    "occurance_selected.to_csv('occurrence.csv', index = False)"
   ]
  },
  {
   "cell_type": "markdown",
   "metadata": {},
   "source": [
    "# IMAGE Downlaod"
   ]
  },
  {
   "cell_type": "code",
   "execution_count": null,
   "metadata": {},
   "outputs": [],
   "source": [
    "# Downloading and installing API package\n",
    "# https://app.serpwow.com/playground\n",
    "# !pip install google-search-results-serpwow-1.1.11.tar.gz"
   ]
  },
  {
   "cell_type": "code",
   "execution_count": null,
   "metadata": {},
   "outputs": [],
   "source": [
    "from serpwow.google_search_results import GoogleSearchResults\n",
    "import json\n",
    "import requests"
   ]
  },
  {
   "cell_type": "code",
   "execution_count": 600,
   "metadata": {},
   "outputs": [],
   "source": [
    "# create the serpwow object, passing in our API key\n",
    "serpwow = GoogleSearchResults(\"63A7F5741693447DA1717AFA10B868B4\")\n",
    "\n",
    "\n",
    "# Function that searches for images of given content and returns given number of urls of images\n",
    "\n",
    "def imagefinder(query, count):\n",
    "    # set up a dict for the search parameters\n",
    "    params = {\n",
    "        \"q\" : query,\n",
    "        \"search_type\" : \"images\",\n",
    "        \"images_usage\" : \"reuse_with_modification\"\n",
    "        \"gl\" : \"au\",\n",
    "        \"hl\" : \"en\",\n",
    "        \"images_page\" : str(count)\n",
    "    }\n",
    "    # retrieve the search results as JSON\n",
    "    result = serpwow.get_json(params)\n",
    "    \n",
    "    return [each[\"image\"] for each in result[\"image_results\"]]\n"
   ]
  },
  {
   "cell_type": "code",
   "execution_count": 1,
   "metadata": {},
   "outputs": [],
   "source": [
    "# Searching images for each plants in waterwise dataset\n",
    "\n",
    "import urllib.request\n",
    "\n",
    "try_count +=1\n",
    "image_count=10  #  of urls will be retrieted but 1st successful download will be stored\n",
    "URLs={}\n",
    "counter = 0\n",
    "\n",
    "for idx, row in plants.iterrows():\n",
    "       \n",
    "    if row[\"Plant ID\"] >  0: # Tracker to start again if image download stopped for any reason\n",
    "        urls = imagefinder(row[\"Botanical Name\"],image_count) \n",
    "        URLs[row[\"Plant ID\"]]=urls\n",
    "        \n",
    "        if len(urls)==0: print(\"Not found -\",row[\"Plant ID\"])\n",
    "        \n",
    "        for i in range(4,len(urls)):\n",
    "            imageurl=urls[i]\n",
    "            try:\n",
    "                resource = urllib.request.urlopen(imageurl)\n",
    "                output = open(\"images/gallery-img-\"+str(row[\"Plant ID\"])+\".jpg\",\"wb\")\n",
    "                output.write(resource.read())\n",
    "                output.close()\n",
    "                counter += 1\n",
    "                print(row[\"Plant ID\"],\"-\",counter)\n",
    "                break\n",
    "            except:\n",
    "                pass"
   ]
  },
  {
   "cell_type": "code",
   "execution_count": 606,
   "metadata": {},
   "outputs": [],
   "source": [
    "# Saving URLs into JSON\n",
    "import json\n",
    "with open('URLs_2'+str(try_count)+'.json', 'w') as fp:\n",
    "    json.dump(URLs, fp)"
   ]
  },
  {
   "cell_type": "markdown",
   "metadata": {},
   "source": [
    "# Pesticide dataset"
   ]
  },
  {
   "cell_type": "code",
   "execution_count": 2,
   "metadata": {},
   "outputs": [],
   "source": [
    "import pandas as pd\n",
    "# loading manually parsed dataset\n",
    "pesticides = pd.read_csv(\"Pesticides_CSV.csv\")"
   ]
  },
  {
   "cell_type": "code",
   "execution_count": 3,
   "metadata": {},
   "outputs": [],
   "source": [
    "# lowering the cases of \"Product name\"\n",
    "pesticides[\"Product name\"] = pesticides[\"Product name\"].apply(lambda x: x.lower())"
   ]
  },
  {
   "cell_type": "code",
   "execution_count": 4,
   "metadata": {},
   "outputs": [],
   "source": [
    "# Splitting \"Active constituent(s) and concentration\" into \"Constituent\" and \"Concentration\" features\n",
    "pesticides[\"Constituent\"]=pesticides[\"Active constituent(s) and concentration\"].apply(lambda x: x.split(\"(\")[0])\n",
    "pesticides[\"Concentration\"]=pesticides[\"Active constituent(s) and concentration\"].apply(lambda x: \"(\"+x.split(\"(\")[1])"
   ]
  },
  {
   "cell_type": "code",
   "execution_count": 5,
   "metadata": {},
   "outputs": [],
   "source": [
    "# Splitting \"Bee related label statement\" into \"Affect to Bees\" and \"Guidance\"\n",
    "pesticides[\"Affect to Bees\"] = \"\"\n",
    "pesticides[\"Guidance\"] = \"\"\n",
    "\n",
    "for idx, row in pesticides.iterrows():\n",
    "    if row[\"Bee related label statement\"][0:17]== \"Dangerous to bees\":\n",
    "        pesticides.loc[idx,\"Affect to Bees\"] = \"Dangerous to bees\"\n",
    "        pesticides.loc[idx,\"Guidance\"] = row[\"Bee related label statement\"][19:]\n",
    "    elif row[\"Bee related label statement\"][0:13]== \"Toxic to bees\":\n",
    "        pesticides.loc[idx,\"Affect to Bees\"] = \"Toxic to bees\"\n",
    "        pesticides.loc[idx,\"Guidance\"] = row[\"Bee related label statement\"][15:]\n",
    "    elif row[\"Bee related label statement\"][0:37]== \"No bee warning statement on the label\":\n",
    "        pesticides.loc[idx,\"Affect to Bees\"] = \"No bee warning statement on the label\"\n",
    "        pesticides.loc[idx,\"Guidance\"] = row[\"Bee related label statement\"][39:]\n",
    "    elif row[\"Bee related label statement\"][0:37]== \"No bee warning statement on the label\":\n",
    "        pesticides.loc[idx,\"Affect to Bees\"] = \"No bee warning statement on the label\"\n",
    "        pesticides.loc[idx,\"Guidance\"] = row[\"Bee related label statement\"][39:]\n",
    "    elif row[\"Bee related label statement\"][0:15]== \"This product is\":\n",
    "        pesticides.loc[idx,\"Affect to Bees\"] = \"Dangerous to bees\"\n",
    "        pesticides.loc[idx,\"Guidance\"] = row[\"Bee related label statement\"]\n",
    "    elif row[\"Bee related label statement\"][0:6]== \"DO NOT\":\n",
    "        pesticides.loc[idx,\"Affect to Bees\"] = \"Deterrent effect to bees\"\n",
    "        pesticides.loc[idx,\"Guidance\"] = row[\"Bee related label statement\"]\n",
    "    else:\n",
    "        pesticides.loc[idx,\"Affect to Bees\"] = \"No bee warning statement on the label\"\n",
    "        pesticides.loc[idx,\"Guidance\"] = row[\"Bee related label statement\"]"
   ]
  },
  {
   "cell_type": "code",
   "execution_count": 6,
   "metadata": {},
   "outputs": [],
   "source": [
    "pesticides = pesticides.drop(columns=[\"Bee related label statement\",\"Active constituent(s) and concentration\"])"
   ]
  },
  {
   "cell_type": "code",
   "execution_count": 7,
   "metadata": {},
   "outputs": [
    {
     "data": {
      "text/html": [
       "<div>\n",
       "<style scoped>\n",
       "    .dataframe tbody tr th:only-of-type {\n",
       "        vertical-align: middle;\n",
       "    }\n",
       "\n",
       "    .dataframe tbody tr th {\n",
       "        vertical-align: top;\n",
       "    }\n",
       "\n",
       "    .dataframe thead th {\n",
       "        text-align: right;\n",
       "    }\n",
       "</style>\n",
       "<table border=\"1\" class=\"dataframe\">\n",
       "  <thead>\n",
       "    <tr style=\"text-align: right;\">\n",
       "      <th></th>\n",
       "      <th>Product name</th>\n",
       "      <th>Constituent</th>\n",
       "      <th>Concentration</th>\n",
       "      <th>Affect to Bees</th>\n",
       "      <th>Guidance</th>\n",
       "    </tr>\n",
       "  </thead>\n",
       "  <tbody>\n",
       "    <tr>\n",
       "      <td>0</td>\n",
       "      <td>4farmers abamectin 18 ec miticide - insecticide</td>\n",
       "      <td>abamectin</td>\n",
       "      <td>(18g/L)</td>\n",
       "      <td>Dangerous to bees</td>\n",
       "      <td>DO NOT spray any plants in flower where bees a...</td>\n",
       "    </tr>\n",
       "    <tr>\n",
       "      <td>1</td>\n",
       "      <td>aakomectine miticide/insecticide</td>\n",
       "      <td>abamectin</td>\n",
       "      <td>(18g/L)</td>\n",
       "      <td>Dangerous to bees</td>\n",
       "      <td>DO NOT spray any plants in flower where bees a...</td>\n",
       "    </tr>\n",
       "    <tr>\n",
       "      <td>2</td>\n",
       "      <td>agrimec miticide/insecticide</td>\n",
       "      <td>abamectin</td>\n",
       "      <td>(18g/L)</td>\n",
       "      <td>Dangerous to bees</td>\n",
       "      <td>DO NOT spray any plants in flower where bees a...</td>\n",
       "    </tr>\n",
       "    <tr>\n",
       "      <td>3</td>\n",
       "      <td>agspray abamectin miticide/insecticide</td>\n",
       "      <td>abamectin</td>\n",
       "      <td>(18g/L)</td>\n",
       "      <td>Dangerous to bees</td>\n",
       "      <td>DO NOT spray any plants in flower where bees a...</td>\n",
       "    </tr>\n",
       "    <tr>\n",
       "      <td>4</td>\n",
       "      <td>avid miticide/insecticde</td>\n",
       "      <td>abamectin</td>\n",
       "      <td>(18g/L)</td>\n",
       "      <td>Dangerous to bees</td>\n",
       "      <td>DO NOT spray any plants in flower where bees a...</td>\n",
       "    </tr>\n",
       "  </tbody>\n",
       "</table>\n",
       "</div>"
      ],
      "text/plain": [
       "                                      Product name Constituent Concentration  \\\n",
       "0  4farmers abamectin 18 ec miticide - insecticide   abamectin       (18g/L)   \n",
       "1                 aakomectine miticide/insecticide   abamectin       (18g/L)   \n",
       "2                     agrimec miticide/insecticide   abamectin       (18g/L)   \n",
       "3           agspray abamectin miticide/insecticide   abamectin       (18g/L)   \n",
       "4                         avid miticide/insecticde   abamectin       (18g/L)   \n",
       "\n",
       "      Affect to Bees                                           Guidance  \n",
       "0  Dangerous to bees  DO NOT spray any plants in flower where bees a...  \n",
       "1  Dangerous to bees  DO NOT spray any plants in flower where bees a...  \n",
       "2  Dangerous to bees  DO NOT spray any plants in flower where bees a...  \n",
       "3  Dangerous to bees  DO NOT spray any plants in flower where bees a...  \n",
       "4  Dangerous to bees  DO NOT spray any plants in flower where bees a...  "
      ]
     },
     "execution_count": 7,
     "metadata": {},
     "output_type": "execute_result"
    }
   ],
   "source": [
    "pesticides.head()"
   ]
  },
  {
   "cell_type": "code",
   "execution_count": null,
   "metadata": {},
   "outputs": [],
   "source": [
    "pesticides.to_csv('pesticides_dataset.csv', index = False)"
   ]
  }
 ],
 "metadata": {
  "kernelspec": {
   "display_name": "Python 3",
   "language": "python",
   "name": "python3"
  },
  "language_info": {
   "codemirror_mode": {
    "name": "ipython",
    "version": 3
   },
   "file_extension": ".py",
   "mimetype": "text/x-python",
   "name": "python",
   "nbconvert_exporter": "python",
   "pygments_lexer": "ipython3",
   "version": "3.7.4"
  }
 },
 "nbformat": 4,
 "nbformat_minor": 2
}
